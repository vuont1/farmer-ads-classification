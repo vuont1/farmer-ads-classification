{
 "cells": [
  {
   "cell_type": "code",
   "id": "initial_id",
   "metadata": {
    "collapsed": true,
    "ExecuteTime": {
     "end_time": "2025-05-29T10:02:35.857097Z",
     "start_time": "2025-05-29T09:56:36.419328Z"
    }
   },
   "source": [
    "from transformers.integrations import accelerate\n",
    "import torch\n",
    "import pandas as pd\n",
    "from sklearn.model_selection import train_test_split\n",
    "from sklearn.metrics import classification_report\n",
    "from transformers import (\n",
    "    BertForSequenceClassification,\n",
    "    Trainer,\n",
    "    TrainingArguments,\n",
    "    BertTokenizer\n",
    ")\n",
    "\n",
    "# Read data\n",
    "data = []\n",
    "with open(\"farm-ads\") as f:\n",
    "    for line in f:\n",
    "        label, *words = line.strip().split()\n",
    "        text = \" \".join(words)\n",
    "        data.append((int(label), text))\n",
    "\n",
    "df = pd.DataFrame(data, columns=[\"label\", \"text\"])\n",
    "df['label'] = df['label'].apply(lambda x: 1 if x == 1 else 0)\n",
    "\n",
    "# Split into train/test\n",
    "train_texts, test_texts, train_labels, test_labels = train_test_split(\n",
    "    df[\"text\"].tolist(), df[\"label\"].tolist(), test_size=0.2, random_state=42\n",
    ")\n",
    "\n",
    "# Initialize tokenizer and model\n",
    "tokenizer = BertTokenizer.from_pretrained(\"bert-base-uncased\")\n",
    "model = BertForSequenceClassification.from_pretrained(\"bert-base-uncased\", num_labels=2)\n",
    "\n",
    "# Tokenize data\n",
    "train_encodings = tokenizer(train_texts, truncation=True, padding=True, max_length=128)\n",
    "test_encodings = tokenizer(test_texts, truncation=True, padding=True, max_length=128)\n",
    "\n",
    "# Dataset class\n",
    "class FarmAdsDataset(torch.utils.data.Dataset):\n",
    "    def __init__(self, encodings, labels):\n",
    "        self.encodings = encodings\n",
    "        self.labels = labels\n",
    "\n",
    "    def __len__(self):\n",
    "        return len(self.labels)\n",
    "\n",
    "    def __getitem__(self, idx):\n",
    "        item = {key: torch.tensor(val[idx]) for key, val in self.encodings.items()}\n",
    "        item[\"labels\"] = torch.tensor(self.labels[idx])\n",
    "        return item\n",
    "\n",
    "train_dataset = FarmAdsDataset(train_encodings, train_labels)\n",
    "test_dataset = FarmAdsDataset(test_encodings, test_labels)\n",
    "\n",
    "# Training arguments\n",
    "training_args = TrainingArguments(\n",
    "    output_dir=\"./results\",\n",
    "    num_train_epochs=3,\n",
    "    per_device_train_batch_size=16,\n",
    "    per_device_eval_batch_size=64,\n",
    "    eval_strategy=\"epoch\",  # Use \"steps\" for more frequent evaluation\n",
    "    save_strategy=\"epoch\",\n",
    "    logging_dir=\"./logs\",\n",
    "    logging_steps=10,\n",
    "    load_best_model_at_end=True,\n",
    "    metric_for_best_model=\"accuracy\",\n",
    "    greater_is_better=True,\n",
    ")\n",
    "\n",
    "# Function to compute metrics\n",
    "def compute_metrics(pred):\n",
    "    labels = pred.label_ids\n",
    "    preds = pred.predictions.argmax(-1)\n",
    "    return classification_report(labels, preds, output_dict=True)\n",
    "\n",
    "# Initialize Trainer\n",
    "trainer = Trainer(\n",
    "    model=model,\n",
    "    args=training_args,\n",
    "    train_dataset=train_dataset,\n",
    "    eval_dataset=test_dataset,\n",
    "    compute_metrics=compute_metrics,\n",
    ")\n",
    "\n",
    "# Train the model\n",
    "trainer.train()\n",
    "\n",
    "# Evaluate\n",
    "results = trainer.evaluate()\n",
    "print(results)\n",
    "\n",
    "# Make predictions\n",
    "predictions = trainer.predict(test_dataset)\n",
    "pred_labels = predictions.predictions.argmax(-1)\n",
    "\n",
    "print(classification_report(test_labels, pred_labels))"
   ],
   "outputs": [
    {
     "name": "stderr",
     "output_type": "stream",
     "text": [
      "/Users/kevinschwald/miniconda3/envs/farmer-ads-classification/lib/python3.12/site-packages/tqdm/auto.py:21: TqdmWarning: IProgress not found. Please update jupyter and ipywidgets. See https://ipywidgets.readthedocs.io/en/stable/user_install.html\n",
      "  from .autonotebook import tqdm as notebook_tqdm\n",
      "Some weights of BertForSequenceClassification were not initialized from the model checkpoint at bert-base-uncased and are newly initialized: ['classifier.bias', 'classifier.weight']\n",
      "You should probably TRAIN this model on a down-stream task to be able to use it for predictions and inference.\n"
     ]
    },
    {
     "data": {
      "text/plain": [
       "<IPython.core.display.HTML object>"
      ],
      "text/html": [
       "\n",
       "    <div>\n",
       "      \n",
       "      <progress value='624' max='624' style='width:300px; height:20px; vertical-align: middle;'></progress>\n",
       "      [624/624 05:15, Epoch 3/3]\n",
       "    </div>\n",
       "    <table border=\"1\" class=\"dataframe\">\n",
       "  <thead>\n",
       " <tr style=\"text-align: left;\">\n",
       "      <th>Epoch</th>\n",
       "      <th>Training Loss</th>\n",
       "      <th>Validation Loss</th>\n",
       "      <th>0</th>\n",
       "      <th>1</th>\n",
       "      <th>Accuracy</th>\n",
       "      <th>Macro avg</th>\n",
       "      <th>Weighted avg</th>\n",
       "    </tr>\n",
       "  </thead>\n",
       "  <tbody>\n",
       "    <tr>\n",
       "      <td>1</td>\n",
       "      <td>0.227700</td>\n",
       "      <td>0.314929</td>\n",
       "      <td>{'precision': 0.8622448979591837, 'recall': 0.8871391076115486, 'f1-score': 0.8745148771021992, 'support': 381.0}</td>\n",
       "      <td>{'precision': 0.9016018306636155, 'recall': 0.8794642857142857, 'f1-score': 0.8903954802259887, 'support': 448.0}</td>\n",
       "      <td>0.882992</td>\n",
       "      <td>{'precision': 0.8819233643113996, 'recall': 0.8833016966629171, 'f1-score': 0.882455178664094, 'support': 829.0}</td>\n",
       "      <td>{'precision': 0.8835137831842566, 'recall': 0.8829915560916767, 'f1-score': 0.8830969159435234, 'support': 829.0}</td>\n",
       "    </tr>\n",
       "    <tr>\n",
       "      <td>2</td>\n",
       "      <td>0.177300</td>\n",
       "      <td>0.279083</td>\n",
       "      <td>{'precision': 0.9430199430199431, 'recall': 0.868766404199475, 'f1-score': 0.9043715846994536, 'support': 381.0}</td>\n",
       "      <td>{'precision': 0.895397489539749, 'recall': 0.9553571428571429, 'f1-score': 0.9244060475161987, 'support': 448.0}</td>\n",
       "      <td>0.915561</td>\n",
       "      <td>{'precision': 0.919208716279846, 'recall': 0.912061773528309, 'f1-score': 0.9143888161078262, 'support': 829.0}</td>\n",
       "      <td>{'precision': 0.9172842866156886, 'recall': 0.9155609167671894, 'f1-score': 0.9151984114086236, 'support': 829.0}</td>\n",
       "    </tr>\n",
       "    <tr>\n",
       "      <td>3</td>\n",
       "      <td>0.111600</td>\n",
       "      <td>0.350175</td>\n",
       "      <td>{'precision': 0.9023746701846965, 'recall': 0.8976377952755905, 'f1-score': 0.9, 'support': 381.0}</td>\n",
       "      <td>{'precision': 0.9133333333333333, 'recall': 0.9174107142857143, 'f1-score': 0.9153674832962138, 'support': 448.0}</td>\n",
       "      <td>0.908323</td>\n",
       "      <td>{'precision': 0.9078540017590149, 'recall': 0.9075242547806524, 'f1-score': 0.907683741648107, 'support': 829.0}</td>\n",
       "      <td>{'precision': 0.9082968427909562, 'recall': 0.9083232810615199, 'f1-score': 0.9083047436872181, 'support': 829.0}</td>\n",
       "    </tr>\n",
       "  </tbody>\n",
       "</table><p>"
      ]
     },
     "metadata": {},
     "output_type": "display_data"
    },
    {
     "data": {
      "text/plain": [
       "<IPython.core.display.HTML object>"
      ],
      "text/html": []
     },
     "metadata": {},
     "output_type": "display_data"
    },
    {
     "name": "stdout",
     "output_type": "stream",
     "text": [
      "{'eval_loss': 0.2790827453136444, 'eval_0': {'precision': 0.9430199430199431, 'recall': 0.868766404199475, 'f1-score': 0.9043715846994536, 'support': 381.0}, 'eval_1': {'precision': 0.895397489539749, 'recall': 0.9553571428571429, 'f1-score': 0.9244060475161987, 'support': 448.0}, 'eval_accuracy': 0.9155609167671894, 'eval_macro avg': {'precision': 0.919208716279846, 'recall': 0.912061773528309, 'f1-score': 0.9143888161078262, 'support': 829.0}, 'eval_weighted avg': {'precision': 0.9172842866156886, 'recall': 0.9155609167671894, 'f1-score': 0.9151984114086236, 'support': 829.0}, 'eval_runtime': 5.8348, 'eval_samples_per_second': 142.079, 'eval_steps_per_second': 2.228, 'epoch': 3.0}\n",
      "              precision    recall  f1-score   support\n",
      "\n",
      "           0       0.94      0.87      0.90       381\n",
      "           1       0.90      0.96      0.92       448\n",
      "\n",
      "    accuracy                           0.92       829\n",
      "   macro avg       0.92      0.91      0.91       829\n",
      "weighted avg       0.92      0.92      0.92       829\n",
      "\n"
     ]
    }
   ],
   "execution_count": 1
  },
  {
   "metadata": {
    "ExecuteTime": {
     "end_time": "2025-05-29T10:59:39.824572Z",
     "start_time": "2025-05-29T10:59:38.895917Z"
    }
   },
   "cell_type": "code",
   "source": [
    "import torch\n",
    "from transformers import BertForSequenceClassification, BertTokenizer\n",
    "\n",
    "# Initialize device (automatically detects MPS for Apple Silicon)\n",
    "device = torch.device(\"mps\" if torch.backends.mps.is_available() else \"cpu\")\n",
    "print(f\"Using device: {device}\")\n",
    "\n",
    "# Load model and tokenizer\n",
    "model = BertForSequenceClassification.from_pretrained(\"bert-base-uncased\", num_labels=2).to(device)\n",
    "tokenizer = BertTokenizer.from_pretrained(\"bert-base-uncased\")\n",
    "\n",
    "def classify_ad(text):\n",
    "    # Tokenize and move to device\n",
    "    tokens = tokenizer(text, return_tensors=\"pt\", truncation=True, padding=True, max_length=128).to(device)\n",
    "\n",
    "    with torch.no_grad():\n",
    "        output = model(**tokens)\n",
    "\n",
    "    pred = torch.argmax(output.logits, dim=1).item()\n",
    "    return \"Accepted\" if pred == 1 else \"Rejected\"\n",
    "\n",
    "# Example usage\n",
    "print(classify_ad(\"sell cows cheap\"))\n"
   ],
   "id": "f987c37ba51205cc",
   "outputs": [
    {
     "name": "stdout",
     "output_type": "stream",
     "text": [
      "Using device: mps\n"
     ]
    },
    {
     "name": "stderr",
     "output_type": "stream",
     "text": [
      "Some weights of BertForSequenceClassification were not initialized from the model checkpoint at bert-base-uncased and are newly initialized: ['classifier.bias', 'classifier.weight']\n",
      "You should probably TRAIN this model on a down-stream task to be able to use it for predictions and inference.\n"
     ]
    },
    {
     "name": "stdout",
     "output_type": "stream",
     "text": [
      "Rejected\n"
     ]
    }
   ],
   "execution_count": 10
  }
 ],
 "metadata": {
  "kernelspec": {
   "display_name": "Python 3",
   "language": "python",
   "name": "python3"
  },
  "language_info": {
   "codemirror_mode": {
    "name": "ipython",
    "version": 2
   },
   "file_extension": ".py",
   "mimetype": "text/x-python",
   "name": "python",
   "nbconvert_exporter": "python",
   "pygments_lexer": "ipython2",
   "version": "2.7.6"
  }
 },
 "nbformat": 4,
 "nbformat_minor": 5
}
