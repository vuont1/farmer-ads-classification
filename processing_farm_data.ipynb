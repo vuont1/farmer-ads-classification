{
 "cells": [
  {
   "cell_type": "code",
   "execution_count": 1,
   "id": "initial_id",
   "metadata": {
    "ExecuteTime": {
     "end_time": "2025-05-17T08:43:28.662518Z",
     "start_time": "2025-05-17T08:43:23.144335Z"
    }
   },
   "outputs": [
    {
     "ename": "FileNotFoundError",
     "evalue": "Unable to find '/Users/davidvuong/PycharmProjects/farmer-life/farms_ads.csv'",
     "output_type": "error",
     "traceback": [
      "\u001B[0;31m---------------------------------------------------------------------------\u001B[0m",
      "\u001B[0;31mFileNotFoundError\u001B[0m                         Traceback (most recent call last)",
      "Cell \u001B[0;32mIn[1], line 22\u001B[0m\n\u001B[1;32m     19\u001B[0m vector_file \u001B[38;5;241m=\u001B[39m \u001B[38;5;124m\"\u001B[39m\u001B[38;5;124mfarms_ads_vectors.csv\u001B[39m\u001B[38;5;124m\"\u001B[39m\n\u001B[1;32m     21\u001B[0m \u001B[38;5;66;03m# Load and display the data\u001B[39;00m\n\u001B[0;32m---> 22\u001B[0m texts, labels, vector_data \u001B[38;5;241m=\u001B[39m load_farm_ads_data(text_file, vector_file)\n\u001B[1;32m     23\u001B[0m \u001B[38;5;28mprint\u001B[39m(\u001B[38;5;124m\"\u001B[39m\u001B[38;5;130;01m\\n\u001B[39;00m\u001B[38;5;124mFirst 3 text samples:\u001B[39m\u001B[38;5;124m\"\u001B[39m)\n\u001B[1;32m     24\u001B[0m \u001B[38;5;28;01mfor\u001B[39;00m i, text \u001B[38;5;129;01min\u001B[39;00m \u001B[38;5;28menumerate\u001B[39m(texts[:\u001B[38;5;241m3\u001B[39m]):\n",
      "Cell \u001B[0;32mIn[1], line 9\u001B[0m, in \u001B[0;36mload_farm_ads_data\u001B[0;34m(text_file, vector_file)\u001B[0m\n\u001B[1;32m      8\u001B[0m \u001B[38;5;28;01mdef\u001B[39;00m \u001B[38;5;21mload_farm_ads_data\u001B[39m(text_file:\u001B[38;5;28mstr\u001B[39m, vector_file:\u001B[38;5;28mstr\u001B[39m):\n\u001B[0;32m----> 9\u001B[0m     text_data \u001B[38;5;241m=\u001B[39m load_dataset(\u001B[38;5;124m'\u001B[39m\u001B[38;5;124mtext\u001B[39m\u001B[38;5;124m'\u001B[39m, data_files\u001B[38;5;241m=\u001B[39mtext_file)[\u001B[38;5;124m'\u001B[39m\u001B[38;5;124mtrain\u001B[39m\u001B[38;5;124m'\u001B[39m]\n\u001B[1;32m     10\u001B[0m     vector_data \u001B[38;5;241m=\u001B[39m pd\u001B[38;5;241m.\u001B[39mread_csv(vector_file, delim_whitespace\u001B[38;5;241m=\u001B[39m\u001B[38;5;28;01mTrue\u001B[39;00m, header\u001B[38;5;241m=\u001B[39m\u001B[38;5;28;01mNone\u001B[39;00m)\n\u001B[1;32m     12\u001B[0m     labels \u001B[38;5;241m=\u001B[39m [\u001B[38;5;28mint\u001B[39m(line[\u001B[38;5;124m'\u001B[39m\u001B[38;5;124mtext\u001B[39m\u001B[38;5;124m'\u001B[39m]\u001B[38;5;241m.\u001B[39msplit()[\u001B[38;5;241m0\u001B[39m]) \u001B[38;5;28;01mfor\u001B[39;00m line \u001B[38;5;129;01min\u001B[39;00m text_data]\n",
      "File \u001B[0;32m/opt/anaconda3/lib/python3.12/site-packages/datasets/load.py:2062\u001B[0m, in \u001B[0;36mload_dataset\u001B[0;34m(path, name, data_dir, data_files, split, cache_dir, features, download_config, download_mode, verification_mode, keep_in_memory, save_infos, revision, token, streaming, num_proc, storage_options, trust_remote_code, **config_kwargs)\u001B[0m\n\u001B[1;32m   2057\u001B[0m verification_mode \u001B[38;5;241m=\u001B[39m VerificationMode(\n\u001B[1;32m   2058\u001B[0m     (verification_mode \u001B[38;5;129;01mor\u001B[39;00m VerificationMode\u001B[38;5;241m.\u001B[39mBASIC_CHECKS) \u001B[38;5;28;01mif\u001B[39;00m \u001B[38;5;129;01mnot\u001B[39;00m save_infos \u001B[38;5;28;01melse\u001B[39;00m VerificationMode\u001B[38;5;241m.\u001B[39mALL_CHECKS\n\u001B[1;32m   2059\u001B[0m )\n\u001B[1;32m   2061\u001B[0m \u001B[38;5;66;03m# Create a dataset builder\u001B[39;00m\n\u001B[0;32m-> 2062\u001B[0m builder_instance \u001B[38;5;241m=\u001B[39m load_dataset_builder(\n\u001B[1;32m   2063\u001B[0m     path\u001B[38;5;241m=\u001B[39mpath,\n\u001B[1;32m   2064\u001B[0m     name\u001B[38;5;241m=\u001B[39mname,\n\u001B[1;32m   2065\u001B[0m     data_dir\u001B[38;5;241m=\u001B[39mdata_dir,\n\u001B[1;32m   2066\u001B[0m     data_files\u001B[38;5;241m=\u001B[39mdata_files,\n\u001B[1;32m   2067\u001B[0m     cache_dir\u001B[38;5;241m=\u001B[39mcache_dir,\n\u001B[1;32m   2068\u001B[0m     features\u001B[38;5;241m=\u001B[39mfeatures,\n\u001B[1;32m   2069\u001B[0m     download_config\u001B[38;5;241m=\u001B[39mdownload_config,\n\u001B[1;32m   2070\u001B[0m     download_mode\u001B[38;5;241m=\u001B[39mdownload_mode,\n\u001B[1;32m   2071\u001B[0m     revision\u001B[38;5;241m=\u001B[39mrevision,\n\u001B[1;32m   2072\u001B[0m     token\u001B[38;5;241m=\u001B[39mtoken,\n\u001B[1;32m   2073\u001B[0m     storage_options\u001B[38;5;241m=\u001B[39mstorage_options,\n\u001B[1;32m   2074\u001B[0m     trust_remote_code\u001B[38;5;241m=\u001B[39mtrust_remote_code,\n\u001B[1;32m   2075\u001B[0m     _require_default_config_name\u001B[38;5;241m=\u001B[39mname \u001B[38;5;129;01mis\u001B[39;00m \u001B[38;5;28;01mNone\u001B[39;00m,\n\u001B[1;32m   2076\u001B[0m     \u001B[38;5;241m*\u001B[39m\u001B[38;5;241m*\u001B[39mconfig_kwargs,\n\u001B[1;32m   2077\u001B[0m )\n\u001B[1;32m   2079\u001B[0m \u001B[38;5;66;03m# Return iterable dataset in case of streaming\u001B[39;00m\n\u001B[1;32m   2080\u001B[0m \u001B[38;5;28;01mif\u001B[39;00m streaming:\n",
      "File \u001B[0;32m/opt/anaconda3/lib/python3.12/site-packages/datasets/load.py:1782\u001B[0m, in \u001B[0;36mload_dataset_builder\u001B[0;34m(path, name, data_dir, data_files, cache_dir, features, download_config, download_mode, revision, token, storage_options, trust_remote_code, _require_default_config_name, **config_kwargs)\u001B[0m\n\u001B[1;32m   1780\u001B[0m     download_config \u001B[38;5;241m=\u001B[39m download_config\u001B[38;5;241m.\u001B[39mcopy() \u001B[38;5;28;01mif\u001B[39;00m download_config \u001B[38;5;28;01melse\u001B[39;00m DownloadConfig()\n\u001B[1;32m   1781\u001B[0m     download_config\u001B[38;5;241m.\u001B[39mstorage_options\u001B[38;5;241m.\u001B[39mupdate(storage_options)\n\u001B[0;32m-> 1782\u001B[0m dataset_module \u001B[38;5;241m=\u001B[39m dataset_module_factory(\n\u001B[1;32m   1783\u001B[0m     path,\n\u001B[1;32m   1784\u001B[0m     revision\u001B[38;5;241m=\u001B[39mrevision,\n\u001B[1;32m   1785\u001B[0m     download_config\u001B[38;5;241m=\u001B[39mdownload_config,\n\u001B[1;32m   1786\u001B[0m     download_mode\u001B[38;5;241m=\u001B[39mdownload_mode,\n\u001B[1;32m   1787\u001B[0m     data_dir\u001B[38;5;241m=\u001B[39mdata_dir,\n\u001B[1;32m   1788\u001B[0m     data_files\u001B[38;5;241m=\u001B[39mdata_files,\n\u001B[1;32m   1789\u001B[0m     cache_dir\u001B[38;5;241m=\u001B[39mcache_dir,\n\u001B[1;32m   1790\u001B[0m     trust_remote_code\u001B[38;5;241m=\u001B[39mtrust_remote_code,\n\u001B[1;32m   1791\u001B[0m     _require_default_config_name\u001B[38;5;241m=\u001B[39m_require_default_config_name,\n\u001B[1;32m   1792\u001B[0m     _require_custom_configs\u001B[38;5;241m=\u001B[39m\u001B[38;5;28mbool\u001B[39m(config_kwargs),\n\u001B[1;32m   1793\u001B[0m )\n\u001B[1;32m   1794\u001B[0m \u001B[38;5;66;03m# Get dataset builder class from the processing script\u001B[39;00m\n\u001B[1;32m   1795\u001B[0m builder_kwargs \u001B[38;5;241m=\u001B[39m dataset_module\u001B[38;5;241m.\u001B[39mbuilder_kwargs\n",
      "File \u001B[0;32m/opt/anaconda3/lib/python3.12/site-packages/datasets/load.py:1497\u001B[0m, in \u001B[0;36mdataset_module_factory\u001B[0;34m(path, revision, download_config, download_mode, dynamic_modules_path, data_dir, data_files, cache_dir, trust_remote_code, _require_default_config_name, _require_custom_configs, **download_kwargs)\u001B[0m\n\u001B[1;32m   1474\u001B[0m \u001B[38;5;66;03m# We have several ways to get a dataset builder:\u001B[39;00m\n\u001B[1;32m   1475\u001B[0m \u001B[38;5;66;03m#\u001B[39;00m\n\u001B[1;32m   1476\u001B[0m \u001B[38;5;66;03m# - if path is the name of a packaged dataset module\u001B[39;00m\n\u001B[0;32m   (...)\u001B[0m\n\u001B[1;32m   1488\u001B[0m \n\u001B[1;32m   1489\u001B[0m \u001B[38;5;66;03m# Try packaged\u001B[39;00m\n\u001B[1;32m   1490\u001B[0m \u001B[38;5;28;01mif\u001B[39;00m path \u001B[38;5;129;01min\u001B[39;00m _PACKAGED_DATASETS_MODULES:\n\u001B[1;32m   1491\u001B[0m     \u001B[38;5;28;01mreturn\u001B[39;00m PackagedDatasetModuleFactory(\n\u001B[1;32m   1492\u001B[0m         path,\n\u001B[1;32m   1493\u001B[0m         data_dir\u001B[38;5;241m=\u001B[39mdata_dir,\n\u001B[1;32m   1494\u001B[0m         data_files\u001B[38;5;241m=\u001B[39mdata_files,\n\u001B[1;32m   1495\u001B[0m         download_config\u001B[38;5;241m=\u001B[39mdownload_config,\n\u001B[1;32m   1496\u001B[0m         download_mode\u001B[38;5;241m=\u001B[39mdownload_mode,\n\u001B[0;32m-> 1497\u001B[0m     )\u001B[38;5;241m.\u001B[39mget_module()\n\u001B[1;32m   1498\u001B[0m \u001B[38;5;66;03m# Try locally\u001B[39;00m\n\u001B[1;32m   1499\u001B[0m \u001B[38;5;28;01melif\u001B[39;00m path\u001B[38;5;241m.\u001B[39mendswith(filename):\n",
      "File \u001B[0;32m/opt/anaconda3/lib/python3.12/site-packages/datasets/load.py:913\u001B[0m, in \u001B[0;36mPackagedDatasetModuleFactory.get_module\u001B[0;34m(self)\u001B[0m\n\u001B[1;32m    907\u001B[0m base_path \u001B[38;5;241m=\u001B[39m Path(\u001B[38;5;28mself\u001B[39m\u001B[38;5;241m.\u001B[39mdata_dir \u001B[38;5;129;01mor\u001B[39;00m \u001B[38;5;124m\"\u001B[39m\u001B[38;5;124m\"\u001B[39m)\u001B[38;5;241m.\u001B[39mexpanduser()\u001B[38;5;241m.\u001B[39mresolve()\u001B[38;5;241m.\u001B[39mas_posix()\n\u001B[1;32m    908\u001B[0m patterns \u001B[38;5;241m=\u001B[39m (\n\u001B[1;32m    909\u001B[0m     sanitize_patterns(\u001B[38;5;28mself\u001B[39m\u001B[38;5;241m.\u001B[39mdata_files)\n\u001B[1;32m    910\u001B[0m     \u001B[38;5;28;01mif\u001B[39;00m \u001B[38;5;28mself\u001B[39m\u001B[38;5;241m.\u001B[39mdata_files \u001B[38;5;129;01mis\u001B[39;00m \u001B[38;5;129;01mnot\u001B[39;00m \u001B[38;5;28;01mNone\u001B[39;00m\n\u001B[1;32m    911\u001B[0m     \u001B[38;5;28;01melse\u001B[39;00m get_data_patterns(base_path, download_config\u001B[38;5;241m=\u001B[39m\u001B[38;5;28mself\u001B[39m\u001B[38;5;241m.\u001B[39mdownload_config)\n\u001B[1;32m    912\u001B[0m )\n\u001B[0;32m--> 913\u001B[0m data_files \u001B[38;5;241m=\u001B[39m DataFilesDict\u001B[38;5;241m.\u001B[39mfrom_patterns(\n\u001B[1;32m    914\u001B[0m     patterns,\n\u001B[1;32m    915\u001B[0m     download_config\u001B[38;5;241m=\u001B[39m\u001B[38;5;28mself\u001B[39m\u001B[38;5;241m.\u001B[39mdownload_config,\n\u001B[1;32m    916\u001B[0m     base_path\u001B[38;5;241m=\u001B[39mbase_path,\n\u001B[1;32m    917\u001B[0m )\n\u001B[1;32m    919\u001B[0m module_path, \u001B[38;5;28mhash\u001B[39m \u001B[38;5;241m=\u001B[39m _PACKAGED_DATASETS_MODULES[\u001B[38;5;28mself\u001B[39m\u001B[38;5;241m.\u001B[39mname]\n\u001B[1;32m    921\u001B[0m builder_kwargs \u001B[38;5;241m=\u001B[39m {\n\u001B[1;32m    922\u001B[0m     \u001B[38;5;124m\"\u001B[39m\u001B[38;5;124mdata_files\u001B[39m\u001B[38;5;124m\"\u001B[39m: data_files,\n\u001B[1;32m    923\u001B[0m     \u001B[38;5;124m\"\u001B[39m\u001B[38;5;124mdataset_name\u001B[39m\u001B[38;5;124m\"\u001B[39m: \u001B[38;5;28mself\u001B[39m\u001B[38;5;241m.\u001B[39mname,\n\u001B[1;32m    924\u001B[0m }\n",
      "File \u001B[0;32m/opt/anaconda3/lib/python3.12/site-packages/datasets/data_files.py:690\u001B[0m, in \u001B[0;36mDataFilesDict.from_patterns\u001B[0;34m(cls, patterns, base_path, allowed_extensions, download_config)\u001B[0m\n\u001B[1;32m    685\u001B[0m out \u001B[38;5;241m=\u001B[39m \u001B[38;5;28mcls\u001B[39m()\n\u001B[1;32m    686\u001B[0m \u001B[38;5;28;01mfor\u001B[39;00m key, patterns_for_key \u001B[38;5;129;01min\u001B[39;00m patterns\u001B[38;5;241m.\u001B[39mitems():\n\u001B[1;32m    687\u001B[0m     out[key] \u001B[38;5;241m=\u001B[39m (\n\u001B[1;32m    688\u001B[0m         patterns_for_key\n\u001B[1;32m    689\u001B[0m         \u001B[38;5;28;01mif\u001B[39;00m \u001B[38;5;28misinstance\u001B[39m(patterns_for_key, DataFilesList)\n\u001B[0;32m--> 690\u001B[0m         \u001B[38;5;28;01melse\u001B[39;00m DataFilesList\u001B[38;5;241m.\u001B[39mfrom_patterns(\n\u001B[1;32m    691\u001B[0m             patterns_for_key,\n\u001B[1;32m    692\u001B[0m             base_path\u001B[38;5;241m=\u001B[39mbase_path,\n\u001B[1;32m    693\u001B[0m             allowed_extensions\u001B[38;5;241m=\u001B[39mallowed_extensions,\n\u001B[1;32m    694\u001B[0m             download_config\u001B[38;5;241m=\u001B[39mdownload_config,\n\u001B[1;32m    695\u001B[0m         )\n\u001B[1;32m    696\u001B[0m     )\n\u001B[1;32m    697\u001B[0m \u001B[38;5;28;01mreturn\u001B[39;00m out\n",
      "File \u001B[0;32m/opt/anaconda3/lib/python3.12/site-packages/datasets/data_files.py:583\u001B[0m, in \u001B[0;36mDataFilesList.from_patterns\u001B[0;34m(cls, patterns, base_path, allowed_extensions, download_config)\u001B[0m\n\u001B[1;32m    580\u001B[0m \u001B[38;5;28;01mfor\u001B[39;00m pattern \u001B[38;5;129;01min\u001B[39;00m patterns:\n\u001B[1;32m    581\u001B[0m     \u001B[38;5;28;01mtry\u001B[39;00m:\n\u001B[1;32m    582\u001B[0m         data_files\u001B[38;5;241m.\u001B[39mextend(\n\u001B[0;32m--> 583\u001B[0m             resolve_pattern(\n\u001B[1;32m    584\u001B[0m                 pattern,\n\u001B[1;32m    585\u001B[0m                 base_path\u001B[38;5;241m=\u001B[39mbase_path,\n\u001B[1;32m    586\u001B[0m                 allowed_extensions\u001B[38;5;241m=\u001B[39mallowed_extensions,\n\u001B[1;32m    587\u001B[0m                 download_config\u001B[38;5;241m=\u001B[39mdownload_config,\n\u001B[1;32m    588\u001B[0m             )\n\u001B[1;32m    589\u001B[0m         )\n\u001B[1;32m    590\u001B[0m     \u001B[38;5;28;01mexcept\u001B[39;00m \u001B[38;5;167;01mFileNotFoundError\u001B[39;00m:\n\u001B[1;32m    591\u001B[0m         \u001B[38;5;28;01mif\u001B[39;00m \u001B[38;5;129;01mnot\u001B[39;00m has_magic(pattern):\n",
      "File \u001B[0;32m/opt/anaconda3/lib/python3.12/site-packages/datasets/data_files.py:384\u001B[0m, in \u001B[0;36mresolve_pattern\u001B[0;34m(pattern, base_path, allowed_extensions, download_config)\u001B[0m\n\u001B[1;32m    382\u001B[0m     \u001B[38;5;28;01mif\u001B[39;00m allowed_extensions \u001B[38;5;129;01mis\u001B[39;00m \u001B[38;5;129;01mnot\u001B[39;00m \u001B[38;5;28;01mNone\u001B[39;00m:\n\u001B[1;32m    383\u001B[0m         error_msg \u001B[38;5;241m+\u001B[39m\u001B[38;5;241m=\u001B[39m \u001B[38;5;124mf\u001B[39m\u001B[38;5;124m\"\u001B[39m\u001B[38;5;124m with any supported extension \u001B[39m\u001B[38;5;132;01m{\u001B[39;00m\u001B[38;5;28mlist\u001B[39m(allowed_extensions)\u001B[38;5;132;01m}\u001B[39;00m\u001B[38;5;124m\"\u001B[39m\n\u001B[0;32m--> 384\u001B[0m     \u001B[38;5;28;01mraise\u001B[39;00m \u001B[38;5;167;01mFileNotFoundError\u001B[39;00m(error_msg)\n\u001B[1;32m    385\u001B[0m \u001B[38;5;28;01mreturn\u001B[39;00m out\n",
      "\u001B[0;31mFileNotFoundError\u001B[0m: Unable to find '/Users/davidvuong/PycharmProjects/farmer-life/farms_ads.csv'"
     ]
    }
   ],
   "source": [
    "import pandas as pd\n",
    "\n",
    "def load_farm_ads_data(text_file: str, vector_file: str):\n",
    "    # Dictionary to store index:value pairs\n",
    "    text_data = []\n",
    "    # Reads the data and seperates the label and text\n",
    "    with open(text_file, 'r', encoding='utf-8') as f:\n",
    "        for line in f:\n",
    "            parts = line.strip().split()\n",
    "            if not parts:  # skip empty lines\n",
    "                continue\n",
    "            label = int(parts[0])\n",
    "            text = ' '.join(parts[1:])\n",
    "            text_data.append({'label': label, 'text': text})\n",
    "    \n",
    "    # Create pandas DataFrame where each item is a dictionary (key & value)\n",
    "    text_df = pd.DataFrame(text_data)\n",
    "    labels = text_df['label'].values\n",
    "    texts = text_df['text'].values\n",
    "    \n",
    "    vector_data = []\n",
    "    with open(vector_file, 'r', encoding='utf-8') as f:\n",
    "        for line in f:\n",
    "            parts = line.strip().split()\n",
    "            if not parts:  # skip empty lines\n",
    "                continue\n",
    "            label = int(parts[0])\n",
    "            features = {}\n",
    "            for item in parts[1:]:\n",
    "                idx, val = item.split(':')\n",
    "                # '3:1' to idx = '3', val = '1'\n",
    "                features[int(idx)] = float(val)\n",
    "            vector_data.append(features)\n",
    "    \n",
    "    # Convert dictionaries into pandas DataFrame\n",
    "    vector_df = pd.DataFrame(vector_data).fillna(0)\n",
    "    \n",
    "    return texts, labels, vector_df\n",
    "\n",
    "if __name__ == '__main__':\n",
    "    # File paths\n",
    "    text_file = \"farm-ads\"\n",
    "    vector_file = \"farm-ads-vect\"\n",
    "    \n",
    "    # Load data\n",
    "    texts, labels, vector_data = load_farm_ads_data(text_file, vector_file)\n",
    "    \n",
    "    # Display results\n",
    "    print(\"\\nFirst 5 text samples with labels:\")\n",
    "    for i in range(5):\n",
    "        print(f\"Label: {labels[i]}\\tText: {texts[i][:50]}...\")\n",
    "    \n",
    "    print(\"\\nVector data shape:\", vector_data.shape)\n",
    "    print(\"First 5 rows of vector data (non-zero features only):\")\n",
    "    # Get column wise + dictionary of non-zero features\n",
    "    print(vector_data.iloc[:5].apply(lambda x: x[x != 0].to_dict(), axis=1))"
   ]
  },
  {
   "cell_type": "code",
   "execution_count": null,
   "id": "15f1dfdf-e408-46ee-b114-b6efa58e6a8b",
   "metadata": {},
   "outputs": [],
   "source": []
  }
 ],
 "metadata": {
  "kernelspec": {
   "display_name": "Python 3 (ipykernel)",
   "language": "python",
   "name": "python3"
  },
  "language_info": {
   "codemirror_mode": {
    "name": "ipython",
    "version": 3
   },
   "file_extension": ".py",
   "mimetype": "text/x-python",
   "name": "python",
   "nbconvert_exporter": "python",
   "pygments_lexer": "ipython3",
   "version": "3.12.7"
  }
 },
 "nbformat": 4,
 "nbformat_minor": 5
}
