{
 "cells": [
  {
   "cell_type": "code",
   "execution_count": 1,
   "id": "initial_id",
   "metadata": {
    "ExecuteTime": {
     "end_time": "2025-05-17T08:43:28.662518Z",
     "start_time": "2025-05-17T08:43:23.144335Z"
    }
   },
   "outputs": [
    {
     "name": "stdout",
     "output_type": "stream",
     "text": [
      "\n",
      "First 5 text samples with labels:\n",
      "Label: 1\tText: ad-jerry ad-bruckheimer ad-chase ad-premier ad-sep...\n",
      "Label: -1\tText: ad-rheumatoid ad-arthritis ad-expert ad-tip ad-inf...\n",
      "Label: -1\tText: ad-rheumatologist ad-anju ad-varghese ad-yonker ad...\n",
      "Label: -1\tText: ad-siemen ad-water ad-remediation ad-water ad-scar...\n",
      "Label: -1\tText: ad-symptom ad-muscle ad-weakness ad-genetic ad-dis...\n",
      "\n",
      "Vector data shape: (4143, 54877)\n",
      "First 5 rows of vector data (non-zero features only):\n",
      "0    {1: 1.0, 2: 1.0, 3: 1.0, 4: 1.0, 5: 1.0, 6: 1....\n",
      "1    {10: 1.0, 11: 1.0, 12: 1.0, 13: 1.0, 14: 1.0, ...\n",
      "2    {29: 1.0, 31: 1.0, 35: 1.0, 101: 1.0, 131: 1.0...\n",
      "3    {34: 1.0, 35: 1.0, 36: 1.0, 44: 1.0, 54: 1.0, ...\n",
      "4    {8: 1.0, 9: 1.0, 429: 1.0, 430: 1.0, 431: 1.0,...\n",
      "dtype: object\n"
     ]
    }
   ],
   "source": [
    "import pandas as pd\n",
    "\n",
    "def load_farm_ads_data(text_file: str, vector_file: str):\n",
    "    # Dictionary to store index:value pairs\n",
    "    text_data = []\n",
    "    # Reads the data and seperates the label and text\n",
    "    with open(text_file, 'r', encoding='utf-8') as f:\n",
    "        for line in f:\n",
    "            parts = line.strip().split()\n",
    "            if not parts:  # skip empty lines\n",
    "                continue\n",
    "            label = int(parts[0])\n",
    "            text = ' '.join(parts[1:])\n",
    "            text_data.append({'label': label, 'text': text})\n",
    "    \n",
    "    # Create pandas DataFrame where each item is a dictionary (key & value)\n",
    "    text_df = pd.DataFrame(text_data)\n",
    "    labels = text_df['label'].values\n",
    "    texts = text_df['text'].values\n",
    "    \n",
    "    vector_data = []\n",
    "    with open(vector_file, 'r', encoding='utf-8') as f:\n",
    "        for line in f:\n",
    "            parts = line.strip().split()\n",
    "            if not parts:  # skip empty lines\n",
    "                continue\n",
    "            label = int(parts[0])\n",
    "            features = {}\n",
    "            for item in parts[1:]:\n",
    "                idx, val = item.split(':')\n",
    "                # '3:1' to idx = '3', val = '1'\n",
    "                features[int(idx)] = float(val)\n",
    "            vector_data.append(features)\n",
    "    \n",
    "    # Convert dictionaries into pandas DataFrame\n",
    "    vector_df = pd.DataFrame(vector_data).fillna(0)\n",
    "    \n",
    "    return texts, labels, vector_df\n",
    "\n",
    "if __name__ == '__main__':\n",
    "    # File paths\n",
    "    text_file = \"farm-ads\"\n",
    "    vector_file = \"farm-ads-vect\"\n",
    "    \n",
    "    # Load data\n",
    "    texts, labels, vector_data = load_farm_ads_data(text_file, vector_file)\n",
    "    \n",
    "    # Display results\n",
    "    print(\"\\nFirst 5 text samples with labels:\")\n",
    "    for i in range(5):\n",
    "        print(f\"Label: {labels[i]}\\tText: {texts[i][:50]}...\")\n",
    "    \n",
    "    print(\"\\nVector data shape:\", vector_data.shape)\n",
    "    print(\"First 5 rows of vector data (non-zero features only):\")\n",
    "    # Get column wise + dictionary of non-zero features\n",
    "    print(vector_data.iloc[:5].apply(lambda x: x[x != 0].to_dict(), axis=1))"
   ]
  },
  {
   "cell_type": "code",
   "execution_count": null,
   "id": "15f1dfdf-e408-46ee-b114-b6efa58e6a8b",
   "metadata": {},
   "outputs": [],
   "source": []
  }
 ],
 "metadata": {
  "kernelspec": {
   "display_name": "Python 3 (ipykernel)",
   "language": "python",
   "name": "python3"
  },
  "language_info": {
   "codemirror_mode": {
    "name": "ipython",
    "version": 3
   },
   "file_extension": ".py",
   "mimetype": "text/x-python",
   "name": "python",
   "nbconvert_exporter": "python",
   "pygments_lexer": "ipython3",
   "version": "3.12.7"
  }
 },
 "nbformat": 4,
 "nbformat_minor": 5
}
