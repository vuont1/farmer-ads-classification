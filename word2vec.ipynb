{
 "cells": [
  {
   "cell_type": "code",
   "id": "initial_id",
   "metadata": {
    "collapsed": true
   },
   "source": [
    "import numpy as np\n",
    "from gensim.models import Word2Vec\n",
    "from sklearn.ensemble import RandomForestClassifier\n",
    "from sklearn.model_selection import train_test_split\n",
    "from sklearn.metrics import classification_report\n",
    "from sklearn.decomposition import PCA\n",
    "import matplotlib.pyplot as plt\n",
    "\n",
    "# farm-ads einlesen\n",
    "with open(\"farm-ads\", \"r\") as f:\n",
    "    lines = f.readlines()\n",
    "\n",
    "labels = []\n",
    "documents = []\n",
    "\n",
    "for line in lines:\n",
    "    # Einzelne ADs\n",
    "    parts = line.strip().split()\n",
    "    # Label vor AD 1 (accepted) -1 (rejected)\n",
    "    label = int(parts[0])\n",
    "    # Wörter im AD\n",
    "    tokens = parts[1:]\n",
    "    labels.append(label)\n",
    "    documents.append(tokens)\n",
    "\n",
    "# Modell trainieren\n",
    "w2v_model = Word2Vec(sentences=documents, vector_size=100, window=5, min_count=1, sg=1, epochs=10)\n",
    "\n",
    "# Ähnliche Wörter finden\n",
    "print(w2v_model.wv.most_similar(\"ad-cow\", topn=5))\n",
    "\n",
    "def doc_vector(doc, model):\n",
    "    vectors = [model.wv[word] for word in doc if word in model.wv]\n",
    "    if not vectors:\n",
    "        return np.zeros(model.vector_size)\n",
    "    return np.mean(vectors, axis=0)\n",
    "\n",
    "doc_vectors = np.array([doc_vector(doc, w2v_model) for doc in documents])\n",
    "\n",
    "X_train, X_test, y_train, y_test = train_test_split(doc_vectors, labels, test_size=0.2, random_state=42)\n",
    "\n",
    "clf = RandomForestClassifier(n_estimators=100)\n",
    "clf.fit(X_train, y_train)\n",
    "\n",
    "pred = clf.predict(X_test)\n",
    "print(classification_report(y_test, pred))\n",
    "\n",
    "def classify_custom_ad(text, model, classifier):\n",
    "    tokens = text.lower().split()\n",
    "    vector = doc_vector(tokens, model).reshape(1, -1)\n",
    "    pred = classifier.predict(vector)[0]\n",
    "    return \"Accepted\" if pred == 1 else \"Rejected\"\n",
    "\n",
    "pca = PCA(n_components=2)\n",
    "X_reduced = pca.fit_transform(doc_vectors)\n",
    "\n",
    "plt.figure(figsize=(10, 6))\n",
    "colors = ['red' if l == -1 else 'green' for l in labels]\n",
    "plt.scatter(X_reduced[:, 0], X_reduced[:, 1], c=colors, alpha=0.5)\n",
    "plt.title(\"Farm Ads - PCA Visualisierung\")\n",
    "plt.xlabel(\"PC1\")\n",
    "plt.ylabel(\"PC2\")\n",
    "plt.show()\n"
   ],
   "outputs": [],
   "execution_count": null
  },
  {
   "metadata": {},
   "cell_type": "code",
   "source": [
    "new_ad = \"selling bfh cheap\"\n",
    "result = classify_custom_ad(new_ad, w2v_model, clf)\n",
    "print(\"Prediction:\", result)"
   ],
   "id": "f609b3256fb8c7a6",
   "outputs": [],
   "execution_count": null
  }
 ],
 "metadata": {
  "kernelspec": {
   "display_name": "Python 3",
   "language": "python",
   "name": "python3"
  },
  "language_info": {
   "codemirror_mode": {
    "name": "ipython",
    "version": 2
   },
   "file_extension": ".py",
   "mimetype": "text/x-python",
   "name": "python",
   "nbconvert_exporter": "python",
   "pygments_lexer": "ipython2",
   "version": "2.7.6"
  }
 },
 "nbformat": 4,
 "nbformat_minor": 5
}
